{
 "cells": [
  {
   "cell_type": "code",
   "execution_count": 40,
   "metadata": {},
   "outputs": [],
   "source": [
    "import csv\n",
    "import re\n",
    "import random\n",
    "import pandas as pd"
   ]
  },
  {
   "cell_type": "code",
   "execution_count": 6,
   "metadata": {},
   "outputs": [],
   "source": [
    "path = \"test_first_process_rel.csv\"\n",
    "outpath = path[:-4]+\"_response.txt\"\n",
    "\n",
    "with open(path) as f, \\\n",
    "open(outpath, 'w') as fout:\n",
    "    reader = csv.reader(f)\n",
    "    next(reader, None)\n",
    "    for row in reader:\n",
    "        response = row[-1].strip()\n",
    "        fout.write(response+'\\n')"
   ]
  },
  {
   "cell_type": "code",
   "execution_count": 5,
   "metadata": {},
   "outputs": [],
   "source": [
    "path = \"test_first_process_rel_3.csv\"\n",
    "outpath = path[:-4]+\"_feqa.txt\"\n",
    "\n",
    "with open(path) as f, \\\n",
    "open(outpath, 'w') as fout:\n",
    "    reader = csv.reader(f)\n",
    "    next(reader, None)\n",
    "    for row in reader:\n",
    "        history = row[2].strip()\n",
    "        history = re.sub(\"<.*?>\", \"<s>\", history)\n",
    "        fout.write(history+'\\n')"
   ]
  },
  {
   "cell_type": "code",
   "execution_count": 4,
   "metadata": {},
   "outputs": [],
   "source": [
    "path = \"test_all_process_rel_3.csv\"\n",
    "outpath = path[:-4]+\"_triple.txt\"\n",
    "\n",
    "with open(path) as f, \\\n",
    "open(outpath, 'w') as fout:\n",
    "    reader = csv.reader(f)\n",
    "    next(reader, None)\n",
    "    for row in reader:\n",
    "        history = row[2].strip()\n",
    "        result = re.search('<((user)|(assistant))>', history)\n",
    "        triples = history[21:result.span()[0]]\n",
    "        triples = re.sub(\"<.*?>\", \"<s>\", triples)\n",
    "        fout.write(triples+'\\n')"
   ]
  }
 ],
 "metadata": {
  "kernelspec": {
   "display_name": "Python 3 (ipykernel)",
   "language": "python",
   "name": "python3"
  },
  "language_info": {
   "codemirror_mode": {
    "name": "ipython",
    "version": 3
   },
   "file_extension": ".py",
   "mimetype": "text/x-python",
   "name": "python",
   "nbconvert_exporter": "python",
   "pygments_lexer": "ipython3",
   "version": "3.8.15"
  }
 },
 "nbformat": 4,
 "nbformat_minor": 5
}
