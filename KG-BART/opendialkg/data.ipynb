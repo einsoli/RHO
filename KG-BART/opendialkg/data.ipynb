{
 "cells": [
  {
   "cell_type": "code",
   "execution_count": 11,
   "metadata": {},
   "outputs": [],
   "source": [
    "import json\n",
    "from tqdm import tqdm\n",
    "import re"
   ]
  },
  {
   "cell_type": "code",
   "execution_count": 8,
   "metadata": {},
   "outputs": [],
   "source": [
    "\n",
    "def build_dataset(data_path, out_path, filtered_path):\n",
    "    with open(data_path) as f:\n",
    "        original_data = [json.loads(line) for line in f]\n",
    "    \n",
    "    fout = open(out_path, 'w')\n",
    "    fout_filtered = open(filtered_path, 'w')\n",
    "    \n",
    "    for i, line in tqdm(enumerate(original_data)):\n",
    "        knowledge_base = line['knowledge_base']\n",
    "        triples = []\n",
    "        for triple in knowledge_base['paths']:\n",
    "            assert len(triple) == 3\n",
    "            if triple[0] and triple[2] and triple[1]:\n",
    "                triples.append('\\t'.join([triple[0], triple[2], triple[1]]))\n",
    "                \n",
    "                \n",
    "        if triples:\n",
    "            fout.write('<sep>'.join(triples).strip()+'\\n')\n",
    "            fout_filtered.write(json.dumps(line)+'\\n')\n",
    "        \n",
    "    fout.close()\n",
    "    fout_filtered.close()\n"
   ]
  },
  {
   "cell_type": "code",
   "execution_count": 9,
   "metadata": {},
   "outputs": [],
   "source": [
    "\n",
    "def build_dataset2(data_path, triple_path, out_path_history, out_path_target):\n",
    "    with open(data_path) as f, open(triple_path) as f_triple:\n",
    "        original_data = [json.loads(line) for line in f]\n",
    "        assert len(original_data) == len(list(f_triple.readlines()))\n",
    "    \n",
    "    fout_history = open(out_path_history, 'w')\n",
    "    fout_target = open(out_path_target, 'w')\n",
    "    \n",
    "    for i, line in tqdm(enumerate(original_data)):\n",
    "        history = []\n",
    "        for h in line['history']:\n",
    "            history.append(h.strip())\n",
    "            \n",
    "        history = '<s>'.join(history)\n",
    "        response = line['response']\n",
    "        \n",
    "        history = re.sub('\\s+', ' ', history)\n",
    "        response = re.sub('\\s+', ' ', response.strip())\n",
    "        \n",
    "        fout_history.write(history+'\\n')\n",
    "        fout_target.write(response+'\\n')\n",
    "        \n",
    "    fout_history.close()\n",
    "    fout_target.close()\n"
   ]
  },
  {
   "cell_type": "code",
   "execution_count": 12,
   "metadata": {},
   "outputs": [
    {
     "name": "stderr",
     "output_type": "stream",
     "text": [
      "2923it [00:00, 19852.40it/s]\n",
      "23196it [00:00, 32271.13it/s]\n",
      "2913it [00:00, 18495.01it/s]\n"
     ]
    }
   ],
   "source": [
    "\n",
    "for split in ['test', 'train', 'val']:\n",
    "    out_path_history = f\"{split}_history_path.txt\"\n",
    "    out_path_target = f\"{split}_response_path.txt\"\n",
    "    data_path = f\"{split}_only_path_filter_triple.txt\"\n",
    "    triple_path = f\"{split}_input_path.txt\"\n",
    "    build_dataset2(data_path, triple_path, out_path_history, out_path_target)"
   ]
  },
  {
   "cell_type": "code",
   "execution_count": null,
   "metadata": {},
   "outputs": [],
   "source": []
  }
 ],
 "metadata": {
  "kernelspec": {
   "display_name": "Python 3 (ipykernel)",
   "language": "python",
   "name": "python3"
  },
  "language_info": {
   "codemirror_mode": {
    "name": "ipython",
    "version": 3
   },
   "file_extension": ".py",
   "mimetype": "text/x-python",
   "name": "python",
   "nbconvert_exporter": "python",
   "pygments_lexer": "ipython3",
   "version": "3.8.15"
  }
 },
 "nbformat": 4,
 "nbformat_minor": 5
}
